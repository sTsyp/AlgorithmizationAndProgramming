{
 "cells": [
  {
   "cell_type": "code",
   "execution_count": 7,
   "id": "71ef2d88",
   "metadata": {},
   "outputs": [],
   "source": [
    "file1 = open('INTdata.txt', 'w', encoding= 'utf8')"
   ]
  },
  {
   "cell_type": "code",
   "execution_count": 8,
   "id": "41da306a",
   "metadata": {},
   "outputs": [],
   "source": [
    "import random"
   ]
  },
  {
   "cell_type": "code",
   "execution_count": 9,
   "id": "e5563cdc",
   "metadata": {},
   "outputs": [
    {
     "name": "stdout",
     "output_type": "stream",
     "text": [
      "n: 1000000\n"
     ]
    },
    {
     "data": {
      "text/plain": [
       "5999999"
      ]
     },
     "execution_count": 9,
     "metadata": {},
     "output_type": "execute_result"
    }
   ],
   "source": [
    "file1.write('\\n'.join(map(lambda _: ''.join(__import__('random').choice('123456789') for _  in range(5)), range(int(input('n: '))))))"
   ]
  },
  {
   "cell_type": "code",
   "execution_count": 10,
   "id": "f7dff277",
   "metadata": {},
   "outputs": [],
   "source": [
    "file2 = open('STRdata.txt', 'w', encoding='utf8')"
   ]
  },
  {
   "cell_type": "code",
   "execution_count": 11,
   "id": "bcb5b541",
   "metadata": {},
   "outputs": [
    {
     "name": "stdout",
     "output_type": "stream",
     "text": [
      "n: 1000000\n"
     ]
    },
    {
     "data": {
      "text/plain": [
       "25999999"
      ]
     },
     "execution_count": 11,
     "metadata": {},
     "output_type": "execute_result"
    }
   ],
   "source": [
    "file2.write('\\n'.join(map(lambda _: ''.join(__import__('random').choice('qwertyuiopasdfghjklzxcvbnm') for _ in range(25)), range(int(input('n: '))))))"
   ]
  },
  {
   "cell_type": "code",
   "execution_count": null,
   "id": "6c3aa46e",
   "metadata": {},
   "outputs": [],
   "source": []
  }
 ],
 "metadata": {
  "kernelspec": {
   "display_name": "Python 3 (ipykernel)",
   "language": "python",
   "name": "python3"
  },
  "language_info": {
   "codemirror_mode": {
    "name": "ipython",
    "version": 3
   },
   "file_extension": ".py",
   "mimetype": "text/x-python",
   "name": "python",
   "nbconvert_exporter": "python",
   "pygments_lexer": "ipython3",
   "version": "3.9.12"
  }
 },
 "nbformat": 4,
 "nbformat_minor": 5
}
